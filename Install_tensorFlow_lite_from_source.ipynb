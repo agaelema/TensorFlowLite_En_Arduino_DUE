{
  "nbformat": 4,
  "nbformat_minor": 0,
  "metadata": {
    "colab": {
      "name": "Install tensorFlow lite from source.ipynb",
      "provenance": [],
      "collapsed_sections": [],
      "include_colab_link": true
    },
    "kernelspec": {
      "name": "python3",
      "display_name": "Python 3"
    }
  },
  "cells": [
    {
      "cell_type": "markdown",
      "metadata": {
        "id": "view-in-github",
        "colab_type": "text"
      },
      "source": [
        "<a href=\"https://colab.research.google.com/github/sandroormeno/TensorFlowLite_En_Arduino_DUE/blob/master/Install_tensorFlow_lite_from_source.ipynb\" target=\"_parent\"><img src=\"https://colab.research.google.com/assets/colab-badge.svg\" alt=\"Open In Colab\"/></a>"
      ]
    },
    {
      "cell_type": "code",
      "metadata": {
        "id": "9PIoD2MvrjtT",
        "colab_type": "code",
        "colab": {
          "base_uri": "https://localhost:8080/",
          "height": 163
        },
        "outputId": "0164c7a9-8075-46bb-b7f8-621f688e5885"
      },
      "source": [
        "!git clone --depth 1 https://github.com/tensorflow/tensorflow.git"
      ],
      "execution_count": 2,
      "outputs": [
        {
          "output_type": "stream",
          "text": [
            "Cloning into 'tensorflow'...\n",
            "remote: Enumerating objects: 18891, done.\u001b[K\n",
            "remote: Counting objects: 100% (18891/18891), done.\u001b[K\n",
            "remote: Compressing objects: 100% (13466/13466), done.\u001b[K\n",
            "remote: Total 18891 (delta 6986), reused 8997 (delta 4911), pack-reused 0\n",
            "Receiving objects: 100% (18891/18891), 42.31 MiB | 12.38 MiB/s, done.\n",
            "Resolving deltas: 100% (6986/6986), done.\n",
            "Checking out files: 100% (18391/18391), done.\n"
          ],
          "name": "stdout"
        }
      ]
    },
    {
      "cell_type": "code",
      "metadata": {
        "id": "iqWujRVJrxpP",
        "colab_type": "code",
        "colab": {
          "base_uri": "https://localhost:8080/",
          "height": 35
        },
        "outputId": "ed4acdcc-cabd-415f-fc70-46ff63f351e9"
      },
      "source": [
        "%cd tensorflow"
      ],
      "execution_count": 4,
      "outputs": [
        {
          "output_type": "stream",
          "text": [
            "/content/tensorflow\n"
          ],
          "name": "stdout"
        }
      ]
    },
    {
      "cell_type": "code",
      "metadata": {
        "id": "ifA6HIr2sCzJ",
        "colab_type": "code",
        "colab": {
          "base_uri": "https://localhost:8080/",
          "height": 237
        },
        "outputId": "74560c54-f4f9-40ee-d33b-5d2a5c6533f4"
      },
      "source": [
        "!make -f tensorflow/lite/experimental/micro/tools/make/Makefile TARGET=arduino TAGS=\"\" generate_hello_world_arduino_library_zip"
      ],
      "execution_count": 6,
      "outputs": [
        {
          "output_type": "stream",
          "text": [
            "tensorflow/lite/experimental/micro/tools/make/download_and_extract.sh \"https://github.com/google/gemmlowp/archive/719139ce755a0f31cbf1c37f7f98adcc7fc9f425.zip\" \"7e8191b24853d75de2af87622ad293ba\" tensorflow/lite/experimental/micro/tools/make/downloads/gemmlowp \n",
            "downloading https://github.com/google/gemmlowp/archive/719139ce755a0f31cbf1c37f7f98adcc7fc9f425.zip\n",
            "tensorflow/lite/experimental/micro/tools/make/download_and_extract.sh \"https://storage.googleapis.com/mirror.tensorflow.org/github.com/google/flatbuffers/archive/v1.11.0.tar.gz\" \"02c64880acb89dbd57eebacfd67200d8\" tensorflow/lite/experimental/micro/tools/make/downloads/flatbuffers \n",
            "downloading https://storage.googleapis.com/mirror.tensorflow.org/github.com/google/flatbuffers/archive/v1.11.0.tar.gz\n",
            "tensorflow/lite/experimental/micro/tools/make/download_and_extract.sh \"https://github.com/mborgerding/kissfft/archive/v130.zip\" \"438ba1fef5783cc5f5f201395cc477ca\" tensorflow/lite/experimental/micro/tools/make/downloads/kissfft patch_kissfft\n",
            "downloading https://github.com/mborgerding/kissfft/archive/v130.zip\n",
            "Finished patching kissfft\n",
            "tensorflow/lite/experimental/micro/tools/make/download_and_extract.sh \"https://storage.googleapis.com/download.tensorflow.org/data/tf_lite_micro_person_data_grayscale.zip\" \"cd1059dd1c94afadd59608202732ad63\" tensorflow/lite/experimental/micro/tools/make/downloads/person_model_grayscale \n",
            "downloading https://storage.googleapis.com/download.tensorflow.org/data/tf_lite_micro_person_data_grayscale.zip\n",
            "cp -r tensorflow/lite/experimental/micro/tools/make/gen/arduino_x86_64/prj/hello_world/arduino tensorflow/lite/experimental/micro/tools/make/gen/arduino_x86_64/prj/hello_world/tensorflow_lite\n",
            "python tensorflow/lite/experimental/micro/tools/make/fix_arduino_subfolders.py tensorflow/lite/experimental/micro/tools/make/gen/arduino_x86_64/prj/hello_world/tensorflow_lite\n"
          ],
          "name": "stdout"
        }
      ]
    },
    {
      "cell_type": "code",
      "metadata": {
        "id": "3WfN1B_OsGvd",
        "colab_type": "code",
        "colab": {}
      },
      "source": [
        "from google.colab import files\n",
        "files.download('tensorflow/lite/experimental/micro/tools/make/gen/arduino_x86_64/prj/hello_world/tensorflow_lite.zip')"
      ],
      "execution_count": 0,
      "outputs": []
    },
    {
      "cell_type": "code",
      "metadata": {
        "id": "YZf9lqTTsukX",
        "colab_type": "code",
        "colab": {}
      },
      "source": [
        ""
      ],
      "execution_count": 0,
      "outputs": []
    }
  ]
}